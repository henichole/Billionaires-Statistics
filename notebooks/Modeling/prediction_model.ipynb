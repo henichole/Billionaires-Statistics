{
 "cells": [
  {
   "cell_type": "markdown",
   "metadata": {},
   "source": [
    "In this notebook we will try to predict The IMDB rating of movies"
   ]
  },
  {
   "cell_type": "code",
   "execution_count": null,
   "metadata": {},
   "outputs": [],
   "source": [
    "import pandas as pd\n",
    "import numpy as np\n",
    "import sqlite3\n",
    "import statsmodels.api as sm\n",
    "import matplotlib.pyplot as plt\n",
    "import seaborn as sns\n",
    "## standard imports\n",
    "\n",
    "conn = sqlite3.connect('moviedb')"
   ]
  },
  {
   "cell_type": "code",
   "execution_count": 58,
   "metadata": {},
   "outputs": [],
   "source": [
    "df=pd.read_sql('select * from  basics b  join ratings r on b.tconst =r.tconst join principals p on p.tconst = b.tconst join name n on n.nconst=p.nconst', conn) \n",
    "## gets the info we will be using from our database"
   ]
  },
  {
   "cell_type": "code",
   "execution_count": 59,
   "metadata": {},
   "outputs": [
    {
     "data": {
      "text/plain": [
       "tconst                  0\n",
       "titleType               0\n",
       "primaryTitle            0\n",
       "originalTitle           0\n",
       "isAdult                 0\n",
       "startYear               0\n",
       "endYear                 0\n",
       "runtimeMinutes          0\n",
       "genres                  0\n",
       "tconst                  0\n",
       "averageRating           0\n",
       "numVotes                0\n",
       "tconst                  0\n",
       "ordering                0\n",
       "nconst                  0\n",
       "category                0\n",
       "job                     0\n",
       "characters              0\n",
       "nconst                  0\n",
       "primaryName             0\n",
       "birthYear               0\n",
       "deathYear               0\n",
       "primaryProfession    1495\n",
       "knownForTitles          0\n",
       "dtype: int64"
      ]
     },
     "execution_count": 59,
     "metadata": {},
     "output_type": "execute_result"
    }
   ],
   "source": [
    "df.duplicated().sum()\n",
    "df.isnull().sum()\n",
    "## quick audit, primaryProfession will be dropped later anyways"
   ]
  },
  {
   "cell_type": "code",
   "execution_count": 60,
   "metadata": {},
   "outputs": [],
   "source": [
    "df = df.drop(columns=[ 'isAdult',  'endYear', 'originalTitle', 'characters','primaryProfession', 'knownForTitles','job','birthYear','deathYear','tconst','titleType','ordering','nconst'])\n",
    "## we dont need these columns"
   ]
  },
  {
   "cell_type": "code",
   "execution_count": 66,
   "metadata": {},
   "outputs": [],
   "source": [
    "df['runtimeMinutes'] = df['runtimeMinutes'].replace(r'\\N', np.nan)\n",
    "df['startYear'] = df['startYear'].replace(r'\\N', np.nan)\n",
    "df['runtimeMinutes'] = pd.to_numeric(df['runtimeMinutes'])\n",
    "df['startYear'] = pd.to_numeric(df['startYear'])\n",
    "df = df.drop_duplicates(subset=['primaryTitle'])  ## this makes sure its one row per movie\n",
    "##  changes the missing data to nan and change the columns to numeric\n"
   ]
  },
  {
   "cell_type": "code",
   "execution_count": 67,
   "metadata": {},
   "outputs": [],
   "source": [
    "df['main_genre'] = df['genres'].str.split(',').str[0] \n",
    " ## the genres column was a list of many, but the main one was listed first\n",
    "## this wil make it easier to model"
   ]
  },
  {
   "cell_type": "code",
   "execution_count": 68,
   "metadata": {},
   "outputs": [],
   "source": [
    "one_hot_encoded = pd.get_dummies(df['main_genre'])\n",
    "df = pd.concat([df, one_hot_encoded], axis=1) ## changing to one hot for the model\n",
    "\n"
   ]
  },
  {
   "cell_type": "code",
   "execution_count": 74,
   "metadata": {},
   "outputs": [
    {
     "data": {
      "text/plain": [
       "main_genre\n",
       "Drama          22247\n",
       "Comedy         21674\n",
       "Action          8718\n",
       "Crime           6015\n",
       "Adventure       4464\n",
       "Animation       3648\n",
       "Documentary     2909\n",
       "\\N              2306\n",
       "Western         1909\n",
       "Horror          1891\n",
       "Biography       1776\n",
       "Short           1224\n",
       "Thriller         764\n",
       "Adult            722\n",
       "Family           536\n",
       "Mystery          495\n",
       "Romance          468\n",
       "Musical          463\n",
       "Fantasy          338\n",
       "Sci-Fi           314\n",
       "Music            249\n",
       "History          115\n",
       "War              101\n",
       "Game-Show         51\n",
       "Talk-Show         50\n",
       "Film-Noir         26\n",
       "News              22\n",
       "Sport             18\n",
       "Reality-TV         7\n",
       "Name: count, dtype: int64"
      ]
     },
     "execution_count": 74,
     "metadata": {},
     "output_type": "execute_result"
    }
   ],
   "source": [
    "\n",
    "df['main_genre'].value_counts()"
   ]
  },
  {
   "cell_type": "code",
   "execution_count": 44,
   "metadata": {},
   "outputs": [
    {
     "name": "stdout",
     "output_type": "stream",
     "text": [
      "                startYear  runtimeMinutes  averageRating\n",
      "startYear        1.000000        0.264581       0.012866\n",
      "runtimeMinutes   0.264581        1.000000       0.036380\n",
      "averageRating    0.012866        0.036380       1.000000\n"
     ]
    }
   ],
   "source": [
    "selected_columns = ['startYear', 'runtimeMinutes', 'averageRating']\n",
    "correlation_matrix = df[selected_columns].corr()\n",
    "print(correlation_matrix)\n"
   ]
  },
  {
   "cell_type": "code",
   "execution_count": 98,
   "metadata": {},
   "outputs": [
    {
     "name": "stdout",
     "output_type": "stream",
     "text": [
      "                            OLS Regression Results                            \n",
      "==============================================================================\n",
      "Dep. Variable:          averageRating   R-squared:                       0.002\n",
      "Model:                            OLS   Adj. R-squared:                  0.002\n",
      "Method:                 Least Squares   F-statistic:                     69.53\n",
      "Date:                Wed, 01 Nov 2023   Prob (F-statistic):           6.77e-31\n",
      "Time:                        17:11:04   Log-Likelihood:            -1.1987e+05\n",
      "No. Observations:               79136   AIC:                         2.398e+05\n",
      "Df Residuals:                   79133   BIC:                         2.398e+05\n",
      "Df Model:                           2                                         \n",
      "Covariance Type:            nonrobust                                         \n",
      "==================================================================================\n",
      "                     coef    std err          t      P>|t|      [0.025      0.975]\n",
      "----------------------------------------------------------------------------------\n",
      "const              8.1745      0.350     23.381      0.000       7.489       8.860\n",
      "startYear         -0.0010      0.000     -5.843      0.000      -0.001      -0.001\n",
      "runtimeMinutes     0.0011    9.5e-05     11.424      0.000       0.001       0.001\n",
      "==============================================================================\n",
      "Omnibus:                     4151.042   Durbin-Watson:                   1.839\n",
      "Prob(Omnibus):                  0.000   Jarque-Bera (JB):             5227.815\n",
      "Skew:                          -0.531   Prob(JB):                         0.00\n",
      "Kurtosis:                       3.677   Cond. No.                     1.76e+05\n",
      "==============================================================================\n",
      "\n",
      "Notes:\n",
      "[1] Standard Errors assume that the covariance matrix of the errors is correctly specified.\n",
      "[2] The condition number is large, 1.76e+05. This might indicate that there are\n",
      "strong multicollinearity or other numerical problems.\n"
     ]
    }
   ],
   "source": [
    "x = df[['startYear', 'runtimeMinutes']]  ## first we try without genres\n",
    "y = df['averageRating']\n",
    "\n",
    "x = sm.add_constant(x)\n",
    "\n",
    "model = sm.OLS(y, x).fit()\n",
    "predictions = model.predict(x) \n",
    "\n",
    "print_model = model.summary()\n",
    "print(print_model)"
   ]
  },
  {
   "cell_type": "code",
   "execution_count": 110,
   "metadata": {},
   "outputs": [],
   "source": [
    "subset = ['Action', 'Adult', 'Adventure', 'Animation', 'Biography', 'Comedy',\n",
    "       'Crime', 'Documentary', 'Drama', 'Family', 'Fantasy', 'Film-Noir',\n",
    "       'Game-Show', 'History', 'Horror', 'Music', 'Musical', 'Mystery', 'News',\n",
    "       'Reality-TV', 'Romance', 'Sci-Fi', 'Short', 'Sport', 'Talk-Show',\n",
    "       'Thriller', 'War', 'Western']\n",
    "for column in subset:\n",
    "    df[column] = df[column].replace({True: 1, False: 0})\n",
    "\n",
    "    ## booleans werent working with statsmodel so we changed to 1 and 0\n"
   ]
  },
  {
   "cell_type": "code",
   "execution_count": 111,
   "metadata": {},
   "outputs": [
    {
     "name": "stdout",
     "output_type": "stream",
     "text": [
      "                            OLS Regression Results                            \n",
      "==============================================================================\n",
      "Dep. Variable:          averageRating   R-squared:                       0.084\n",
      "Model:                            OLS   Adj. R-squared:                  0.083\n",
      "Method:                 Least Squares   F-statistic:                     240.5\n",
      "Date:                Wed, 01 Nov 2023   Prob (F-statistic):               0.00\n",
      "Time:                        17:17:47   Log-Likelihood:            -1.1649e+05\n",
      "No. Observations:               79136   AIC:                         2.330e+05\n",
      "Df Residuals:                   79105   BIC:                         2.333e+05\n",
      "Df Model:                          30                                         \n",
      "Covariance Type:            nonrobust                                         \n",
      "==================================================================================\n",
      "                     coef    std err          t      P>|t|      [0.025      0.975]\n",
      "----------------------------------------------------------------------------------\n",
      "const              7.5852      0.345     21.995      0.000       6.909       8.261\n",
      "startYear         -0.0009      0.000     -4.934      0.000      -0.001      -0.001\n",
      "runtimeMinutes     0.0021      0.000     21.261      0.000       0.002       0.002\n",
      "Action            -0.2330      0.029     -7.948      0.000      -0.290      -0.176\n",
      "Adult             -0.0130      0.050     -0.259      0.795      -0.111       0.085\n",
      "Adventure          0.0364      0.031      1.155      0.248      -0.025       0.098\n",
      "Animation          0.6726      0.033     20.255      0.000       0.608       0.738\n",
      "Biography          0.6571      0.037     17.719      0.000       0.584       0.730\n",
      "Comedy             0.0649      0.028      2.323      0.020       0.010       0.120\n",
      "Crime              0.2179      0.030      7.199      0.000       0.159       0.277\n",
      "Documentary        0.9456      0.034     27.925      0.000       0.879       1.012\n",
      "Drama              0.3016      0.028     10.804      0.000       0.247       0.356\n",
      "Family             0.2982      0.055      5.468      0.000       0.191       0.405\n",
      "Fantasy           -0.0764      0.065     -1.178      0.239      -0.203       0.051\n",
      "Film-Noir          0.5478      0.209      2.626      0.009       0.139       0.957\n",
      "Game-Show          0.0376      0.161      0.233      0.816      -0.279       0.354\n",
      "History            0.4213      0.106      3.958      0.000       0.213       0.630\n",
      "Horror            -0.9251      0.036    -25.351      0.000      -0.997      -0.854\n",
      "Music              0.5438      0.075      7.296      0.000       0.398       0.690\n",
      "Musical            0.0279      0.057      0.491      0.623      -0.084       0.139\n",
      "Mystery           -0.1316      0.055     -2.380      0.017      -0.240      -0.023\n",
      "News              -0.9949      0.294     -3.386      0.001      -1.571      -0.419\n",
      "Reality-TV         0.6512      0.528      1.233      0.217      -0.384       1.686\n",
      "Romance           -0.0470      0.057     -0.819      0.413      -0.160       0.066\n",
      "Sci-Fi            -0.7037      0.067    -10.567      0.000      -0.834      -0.573\n",
      "Short              0.4591      0.043     10.656      0.000       0.375       0.544\n",
      "Sport             -0.0422      0.294     -0.144      0.886      -0.618       0.534\n",
      "Talk-Show         -0.0762      0.186     -0.410      0.682      -0.440       0.288\n",
      "Thriller          -0.5149      0.047    -10.854      0.000      -0.608      -0.422\n",
      "War               -0.0411      0.114     -0.359      0.720      -0.265       0.183\n",
      "Western            0.0676      0.036      1.852      0.064      -0.004       0.139\n",
      "==============================================================================\n",
      "Omnibus:                     4023.753   Durbin-Watson:                   1.835\n",
      "Prob(Omnibus):                  0.000   Jarque-Bera (JB):             5402.385\n",
      "Skew:                          -0.493   Prob(JB):                         0.00\n",
      "Kurtosis:                       3.816   Cond. No.                     2.77e+05\n",
      "==============================================================================\n",
      "\n",
      "Notes:\n",
      "[1] Standard Errors assume that the covariance matrix of the errors is correctly specified.\n",
      "[2] The condition number is large, 2.77e+05. This might indicate that there are\n",
      "strong multicollinearity or other numerical problems.\n"
     ]
    }
   ],
   "source": [
    "x = df[['startYear', 'runtimeMinutes', 'Action', 'Adult', 'Adventure', 'Animation', 'Biography', 'Comedy',\n",
    "       'Crime', 'Documentary', 'Drama', 'Family', 'Fantasy', 'Film-Noir',\n",
    "       'Game-Show', 'History', 'Horror', 'Music', 'Musical', 'Mystery', 'News',\n",
    "       'Reality-TV', 'Romance', 'Sci-Fi', 'Short', 'Sport', 'Talk-Show',\n",
    "       'Thriller', 'War', 'Western']] \n",
    "y = df['averageRating']\n",
    "\n",
    "x = sm.add_constant(x)\n",
    "\n",
    "model = sm.OLS(y, x).fit()\n",
    "predictions = model.predict(x) \n",
    "\n",
    "print_model = model.summary()\n",
    "print(print_model)\n",
    "\n",
    "## including genres gives us a higher R-squared than the previous model, some genres have very high P values so we can use backwards elimination on them"
   ]
  },
  {
   "cell_type": "code",
   "execution_count": 122,
   "metadata": {},
   "outputs": [
    {
     "name": "stdout",
     "output_type": "stream",
     "text": [
      "                            OLS Regression Results                            \n",
      "==============================================================================\n",
      "Dep. Variable:          averageRating   R-squared:                       0.084\n",
      "Model:                            OLS   Adj. R-squared:                  0.083\n",
      "Method:                 Least Squares   F-statistic:                     360.4\n",
      "Date:                Wed, 01 Nov 2023   Prob (F-statistic):               0.00\n",
      "Time:                        17:31:42   Log-Likelihood:            -1.1649e+05\n",
      "No. Observations:               79136   AIC:                         2.330e+05\n",
      "Df Residuals:                   79115   BIC:                         2.332e+05\n",
      "Df Model:                          20                                         \n",
      "Covariance Type:            nonrobust                                         \n",
      "==================================================================================\n",
      "                     coef    std err          t      P>|t|      [0.025      0.975]\n",
      "----------------------------------------------------------------------------------\n",
      "const              7.6335      0.341     22.365      0.000       6.964       8.302\n",
      "startYear         -0.0009      0.000     -5.063      0.000      -0.001      -0.001\n",
      "runtimeMinutes     0.0022      0.000     21.346      0.000       0.002       0.002\n",
      "Action            -0.2472      0.017    -14.855      0.000      -0.280      -0.215\n",
      "Animation          0.6585      0.023     28.998      0.000       0.614       0.703\n",
      "Biography          0.6429      0.028     22.817      0.000       0.588       0.698\n",
      "Comedy             0.0507      0.014      3.609      0.000       0.023       0.078\n",
      "Crime              0.2037      0.018     11.161      0.000       0.168       0.239\n",
      "Documentary        0.9316      0.024     39.179      0.000       0.885       0.978\n",
      "Drama              0.2873      0.014     20.508      0.000       0.260       0.315\n",
      "Family             0.2842      0.049      5.810      0.000       0.188       0.380\n",
      "Film-Noir          0.5333      0.207      2.574      0.010       0.127       0.939\n",
      "History            0.4068      0.104      3.924      0.000       0.204       0.610\n",
      "Horror            -0.9391      0.027    -34.278      0.000      -0.993      -0.885\n",
      "Music              0.5296      0.070      7.513      0.000       0.391       0.668\n",
      "Mystery           -0.1459      0.050     -2.935      0.003      -0.243      -0.048\n",
      "News              -1.0092      0.293     -3.447      0.001      -1.583      -0.435\n",
      "Sci-Fi            -0.7178      0.062    -11.562      0.000      -0.839      -0.596\n",
      "Short              0.4453      0.036     12.479      0.000       0.375       0.515\n",
      "Thriller          -0.5288      0.041    -12.938      0.000      -0.609      -0.449\n",
      "Western            0.0531      0.027      1.949      0.051      -0.000       0.107\n",
      "==============================================================================\n",
      "Omnibus:                     4019.928   Durbin-Watson:                   1.835\n",
      "Prob(Omnibus):                  0.000   Jarque-Bera (JB):             5395.252\n",
      "Skew:                          -0.493   Prob(JB):                         0.00\n",
      "Kurtosis:                       3.815   Cond. No.                     1.79e+05\n",
      "==============================================================================\n",
      "\n",
      "Notes:\n",
      "[1] Standard Errors assume that the covariance matrix of the errors is correctly specified.\n",
      "[2] The condition number is large, 1.79e+05. This might indicate that there are\n",
      "strong multicollinearity or other numerical problems.\n"
     ]
    }
   ],
   "source": [
    "x = df[['startYear', 'runtimeMinutes', 'Action',   'Animation', 'Biography', 'Comedy',\n",
    "       'Crime', 'Documentary', 'Drama', 'Family',  'Film-Noir',\n",
    "        'History', 'Horror', 'Music',  'Mystery', 'News',\n",
    "        'Sci-Fi', 'Short', \n",
    "       'Thriller', 'Western']] \n",
    "y = df['averageRating']\n",
    "\n",
    "x = sm.add_constant(x)\n",
    "\n",
    "model = sm.OLS(y, x).fit()\n",
    "predictions = model.predict(x) \n",
    "\n",
    "print_model = model.summary()\n",
    "print(print_model)\n",
    "\n",
    "## Removing the non signigicant genres doesnt change our R squared"
   ]
  },
  {
   "cell_type": "markdown",
   "metadata": {},
   "source": [
    "### Conclusion\n",
    "- Although the P values are small, the R squared is also low meaning the model can only explain 8% of the variance in ratings.  The most interesting finding is probably the genre effects, which are listed below.\n",
    "\n",
    "\n",
    "Here is a list of the effect each genre will have on the average rating of your movie\n",
    "\n",
    "- Documentary: 0.9316\n",
    "- Animation: 0.6585\n",
    "- Biography: 0.6429\n",
    "- Film-Noir: 0.5333\n",
    "- Music: 0.5296\n",
    "- Short: 0.4453\n",
    "- History: 0.4068\n",
    "- Drama: 0.2873\n",
    "- Family: 0.2842\n",
    "- Comedy: 0.0507\n",
    "- Western: 0.0531\n",
    "- Action: -0.2472\n",
    "- Crime: 0.2037\n",
    "- Mystery: -0.1459\n",
    "- Thriller: -0.5288\n",
    "- Sci-Fi: -0.7178\n",
    "- Horror: -0.9391\n",
    "- News: -1.0092\n",
    "\n",
    "\n",
    "Here we can see newer movies are very slightly lower rated than old ones, and longer movies are very slightly rated higher\n",
    "\n",
    "- runtimeMinutes: 0.0022\n",
    "- startYear: -0.0009\n",
    "\n",
    "So, if you are making a movie these are some things to consider"
   ]
  }
 ],
 "metadata": {
  "kernelspec": {
   "display_name": "Python 3",
   "language": "python",
   "name": "python3"
  },
  "language_info": {
   "codemirror_mode": {
    "name": "ipython",
    "version": 3
   },
   "file_extension": ".py",
   "mimetype": "text/x-python",
   "name": "python",
   "nbconvert_exporter": "python",
   "pygments_lexer": "ipython3",
   "version": "3.12.0"
  }
 },
 "nbformat": 4,
 "nbformat_minor": 2
}
