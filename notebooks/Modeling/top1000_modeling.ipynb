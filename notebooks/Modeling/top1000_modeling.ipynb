{
 "cells": [
  {
   "cell_type": "code",
   "execution_count": 23,
   "metadata": {},
   "outputs": [],
   "source": [
    "import pandas as pd\n",
    "import numpy as np\n",
    "import seaborn as sns\n",
    "import statsmodels.api as sm\n",
    "\n",
    "\n",
    "\n",
    "df = pd.read_csv('topmoviesclean.csv')  ## bring in the processed data\n",
    "\n",
    "## The conclusion is at the bottom\n"
   ]
  },
  {
   "cell_type": "code",
   "execution_count": 24,
   "metadata": {},
   "outputs": [
    {
     "data": {
      "text/plain": [
       "Index(['index', 'name', 'certificate', 'duration', 'genre', 'rating',\n",
       "       'director', 'stars', 'votes', 'grossed', 'plot'],\n",
       "      dtype='object')"
      ]
     },
     "execution_count": 24,
     "metadata": {},
     "output_type": "execute_result"
    }
   ],
   "source": [
    "df.columns"
   ]
  },
  {
   "cell_type": "code",
   "execution_count": 26,
   "metadata": {},
   "outputs": [
    {
     "name": "stdout",
     "output_type": "stream",
     "text": [
      "                            OLS Regression Results                            \n",
      "==============================================================================\n",
      "Dep. Variable:                grossed   R-squared:                       0.242\n",
      "Model:                            OLS   Adj. R-squared:                  0.241\n",
      "Method:                 Least Squares   F-statistic:                     159.2\n",
      "Date:                Tue, 31 Oct 2023   Prob (F-statistic):           9.80e-61\n",
      "Time:                        19:02:19   Log-Likelihood:                -14158.\n",
      "No. Observations:                1000   AIC:                         2.832e+04\n",
      "Df Residuals:                     997   BIC:                         2.834e+04\n",
      "Df Model:                           2                                         \n",
      "Covariance Type:            nonrobust                                         \n",
      "==============================================================================\n",
      "                 coef    std err          t      P>|t|      [0.025      0.975]\n",
      "------------------------------------------------------------------------------\n",
      "const      -5.229e+06   3.17e+05    -16.501      0.000   -5.85e+06   -4.61e+06\n",
      "rating      6.901e+05    4.1e+04     16.841      0.000     6.1e+05     7.7e+05\n",
      "duration     414.3513    391.377      1.059      0.290    -353.666    1182.368\n",
      "==============================================================================\n",
      "Omnibus:                      191.918   Durbin-Watson:                   0.711\n",
      "Prob(Omnibus):                  0.000   Jarque-Bera (JB):              371.832\n",
      "Skew:                           1.121   Prob(JB):                     1.81e-81\n",
      "Kurtosis:                       4.973   Cond. No.                     3.78e+03\n",
      "==============================================================================\n",
      "\n",
      "Notes:\n",
      "[1] Standard Errors assume that the covariance matrix of the errors is correctly specified.\n",
      "[2] The condition number is large, 3.78e+03. This might indicate that there are\n",
      "strong multicollinearity or other numerical problems.\n"
     ]
    }
   ],
   "source": [
    "x=df[['rating','duration']]\n",
    "y=df['grossed']\n",
    "x=sm.add_constant(x)\n",
    "\n",
    "model = sm.OLS(y, x).fit()\n",
    "predictions = model.predict(x) \n",
    "\n",
    "print_model = model.summary()\n",
    "print(print_model)"
   ]
  },
  {
   "cell_type": "code",
   "execution_count": 27,
   "metadata": {},
   "outputs": [
    {
     "name": "stdout",
     "output_type": "stream",
     "text": [
      "                            OLS Regression Results                            \n",
      "==============================================================================\n",
      "Dep. Variable:                grossed   R-squared:                       0.241\n",
      "Model:                            OLS   Adj. R-squared:                  0.240\n",
      "Method:                 Least Squares   F-statistic:                     317.3\n",
      "Date:                Tue, 31 Oct 2023   Prob (F-statistic):           7.66e-62\n",
      "Time:                        19:02:49   Log-Likelihood:                -14159.\n",
      "No. Observations:                1000   AIC:                         2.832e+04\n",
      "Df Residuals:                     998   BIC:                         2.833e+04\n",
      "Df Model:                           1                                         \n",
      "Covariance Type:            nonrobust                                         \n",
      "==============================================================================\n",
      "                 coef    std err          t      P>|t|      [0.025      0.975]\n",
      "------------------------------------------------------------------------------\n",
      "const      -5.273e+06   3.14e+05    -16.778      0.000   -5.89e+06   -4.66e+06\n",
      "rating       7.02e+05   3.94e+04     17.813      0.000    6.25e+05    7.79e+05\n",
      "==============================================================================\n",
      "Omnibus:                      194.769   Durbin-Watson:                   0.708\n",
      "Prob(Omnibus):                  0.000   Jarque-Bera (JB):              379.399\n",
      "Skew:                           1.134   Prob(JB):                     4.12e-83\n",
      "Kurtosis:                       4.990   Cond. No.                         236.\n",
      "==============================================================================\n",
      "\n",
      "Notes:\n",
      "[1] Standard Errors assume that the covariance matrix of the errors is correctly specified.\n"
     ]
    }
   ],
   "source": [
    "x=df['rating']\n",
    "y=df['grossed']\n",
    "x=sm.add_constant(x)\n",
    "\n",
    "model = sm.OLS(y, x).fit()\n",
    "predictions = model.predict(x) \n",
    "\n",
    "print_model = model.summary()\n",
    "print(print_model)"
   ]
  },
  {
   "cell_type": "markdown",
   "metadata": {},
   "source": [
    "### Conclusion\n",
    "\n",
    "We first tried predicting gross income with Rating and Duration, and then with just Rating.  Both R Squared values are pretty low, and in addition, Rating cant be known until after the movie is already made so these models arent very useful."
   ]
  }
 ],
 "metadata": {
  "kernelspec": {
   "display_name": "Python 3",
   "language": "python",
   "name": "python3"
  },
  "language_info": {
   "codemirror_mode": {
    "name": "ipython",
    "version": 3
   },
   "file_extension": ".py",
   "mimetype": "text/x-python",
   "name": "python",
   "nbconvert_exporter": "python",
   "pygments_lexer": "ipython3",
   "version": "3.12.0"
  }
 },
 "nbformat": 4,
 "nbformat_minor": 2
}
