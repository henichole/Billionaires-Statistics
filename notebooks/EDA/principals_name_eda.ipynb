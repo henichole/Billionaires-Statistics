{
 "cells": [
  {
   "cell_type": "code",
   "execution_count": 17,
   "metadata": {},
   "outputs": [],
   "source": [
    "import pandas as pd\n",
    "import numpy as np\n",
    "import sqlite3\n",
    "import statsmodels.api as sm\n",
    "import matplotlib.pyplot as plt\n",
    "import seaborn as sns\n",
    "\n",
    "df=pd.read_csv('name_principals_clean.csv')\n",
    "df = df.drop_duplicates() "
   ]
  },
  {
   "cell_type": "code",
   "execution_count": 12,
   "metadata": {},
   "outputs": [
    {
     "data": {
      "text/plain": [
       "primaryName\n",
       "Jens-Peter Erichsen    10.0\n",
       "Michael Nowka           9.8\n",
       "Manfred Meurer          9.8\n",
       "Ercan Durmaz            9.8\n",
       "Matthew Dawson          9.8\n",
       "Sebastian Rabl          9.7\n",
       "James Lawless           9.6\n",
       "Klaus-Peter Grap        9.5\n",
       "Ronald Dehne            9.5\n",
       "René Schell             9.5\n",
       "Christoph Quest         9.5\n",
       "Hermann Wenning         9.5\n",
       "Rostas Gabor            9.5\n",
       "José van der Schoot     9.5\n",
       "Fred Bräutigam          9.5\n",
       "Leonardo Putzgruber     9.4\n",
       "Carlos Werner           9.4\n",
       "Hans Peter Falkner      9.4\n",
       "Walter F. Scott         9.4\n",
       "Hans Musäus             9.4\n",
       "Fermín Iniesta          9.4\n",
       "Gyula Fehér             9.4\n",
       "Markus Binder           9.4\n",
       "Hans-Albert Martens     9.4\n",
       "Aníbal Bordallo         9.4\n",
       "Antonio Ventura         9.4\n",
       "Bob Hevelone            9.3\n",
       "Conrad Tovar            9.3\n",
       "Volker Spahr            9.3\n",
       "Bill Grant              9.3\n",
       "Ted Burnett             9.3\n",
       "Akira Kume              9.3\n",
       "Billy Daniel            9.3\n",
       "Lothar Blumhagen        9.2\n",
       "Heiner Reddemann        9.2\n",
       "Gert Niemitz            9.2\n",
       "Greg Parker             9.2\n",
       "Pat Dias                9.2\n",
       "Peter Uwe Witt          9.2\n",
       "Heinz Frölich           9.2\n",
       "Name: averageRating, dtype: float64"
      ]
     },
     "execution_count": 12,
     "metadata": {},
     "output_type": "execute_result"
    }
   ],
   "source": [
    "subset = df[df['category'] == 'actor']\n",
    "\n",
    "\n",
    "actor_avg = subset.groupby('primaryName')['averageRating'].mean()\n",
    "\n",
    "ranks=actor_avg.sort_values(ascending=False)\n",
    "\n",
    "ranks.head(40)\n",
    "\n",
    "## checks top actors by average movie rating\n",
    "\n"
   ]
  },
  {
   "cell_type": "code",
   "execution_count": 13,
   "metadata": {},
   "outputs": [
    {
     "data": {
      "text/plain": [
       "primaryName\n",
       "Marcus Kanter               10.00\n",
       "Ulrich Lauterbach            9.90\n",
       "Alexandra Brodsky            9.80\n",
       "Ayhan Salar                  9.80\n",
       "Gustav Burmester             9.80\n",
       "Dominik Zen                  9.70\n",
       "Franz Morak                  9.70\n",
       "Sandra Osawa                 9.60\n",
       "John D. Goodell              9.60\n",
       "Matl Findel                  9.50\n",
       "Hans Bachmüller              9.40\n",
       "Joaquín Hidalgo              9.40\n",
       "Erich Neureuther             9.40\n",
       "Petar Grimani                9.30\n",
       "Noel Madison                 9.30\n",
       "Filipe Paulo                 9.30\n",
       "Gábor Dettre                 9.30\n",
       "Edward Rothe                 9.30\n",
       "Magda Dulcic                 9.20\n",
       "Pat Hartigan                 9.20\n",
       "Ronald Eyre                  9.20\n",
       "Gavin Taylor                 9.20\n",
       "Thad Halcli                  9.20\n",
       "Jane Jensen                  9.10\n",
       "Ramiro Puerta                9.10\n",
       "Hanns Farenburg              9.10\n",
       "Nora Jacobson                9.10\n",
       "Jim Holliday                 9.10\n",
       "Christian Baudissin          9.10\n",
       "Lutz Büscher                 9.05\n",
       "Milos Djukelic               9.00\n",
       "Vladimir Petek               9.00\n",
       "Anatoliy Dormenko            9.00\n",
       "Ludmil Staikov               9.00\n",
       "Deepa Dhanraj                9.00\n",
       "Amanda Micheli               9.00\n",
       "Juan Bautista Berasategi     9.00\n",
       "Aleksandra Remizova          9.00\n",
       "Michael Lorentz              9.00\n",
       "Ron Miller                   9.00\n",
       "Name: averageRating, dtype: float64"
      ]
     },
     "execution_count": 13,
     "metadata": {},
     "output_type": "execute_result"
    }
   ],
   "source": [
    "subset = df[df['category'] == 'director']\n",
    "\n",
    "\n",
    "dir_avg =subset.groupby('primaryName')['averageRating'].mean()\n",
    "\n",
    "ranks=dir_avg.sort_values(ascending=False)\n",
    "\n",
    "ranks.head(40)\n",
    "\n",
    "## top directors by average movie rating\n",
    "\n"
   ]
  },
  {
   "cell_type": "code",
   "execution_count": 18,
   "metadata": {},
   "outputs": [
    {
     "data": {
      "text/plain": [
       "primaryName\n",
       "Mel Blanc              889\n",
       "Pinto Colvig           251\n",
       "Moe Howard             208\n",
       "Larry Fine             206\n",
       "Billy Bletcher         188\n",
       "                      ... \n",
       "Ali Achmed Taram         1\n",
       "Heinz Lieven             1\n",
       "Ennio Panosetti          1\n",
       "Carlos Alberto Baía      1\n",
       "Master Ravi              1\n",
       "Name: count, Length: 56743, dtype: int64"
      ]
     },
     "execution_count": 18,
     "metadata": {},
     "output_type": "execute_result"
    }
   ],
   "source": [
    "filtered = df[df['category'] == 'actor']\n",
    "filtered['primaryName'].value_counts()\n",
    "## checks who acted in the most movies - I had to google the guy with 889.. he does voices for bugs bunny and stuff!\n"
   ]
  },
  {
   "cell_type": "code",
   "execution_count": 16,
   "metadata": {},
   "outputs": [
    {
     "data": {
      "text/plain": [
       "primaryName\n",
       "D.W. Griffith     424\n",
       "Dave Fleischer    423\n",
       "Friz Freleng      301\n",
       "Chuck Jones       282\n",
       "Sam Newfield      190\n",
       "                 ... \n",
       "Jorge Zanada        1\n",
       "Åke Grönberg        1\n",
       "Harry Gerstad       1\n",
       "József Kis          1\n",
       "Tim Boxell          1\n",
       "Name: count, Length: 19135, dtype: int64"
      ]
     },
     "execution_count": 16,
     "metadata": {},
     "output_type": "execute_result"
    }
   ],
   "source": [
    "filtered = df[df['category'] == 'director']\n",
    "filtered['primaryName'].value_counts()\n",
    "##  who directed the most movies"
   ]
  },
  {
   "cell_type": "markdown",
   "metadata": {},
   "source": [
    "Does Size of cast affect rating"
   ]
  },
  {
   "cell_type": "code",
   "execution_count": 1,
   "metadata": {},
   "outputs": [],
   "source": [
    "import pandas as pd\n",
    "import numpy as np\n",
    "import sqlite3\n",
    "import statsmodels.api as sm\n",
    "import matplotlib.pyplot as plt\n",
    "import seaborn as sns\n",
    "\n",
    "conn = sqlite3.connect('moviedb')\n",
    "df=pd.read_sql('select * from  principals p', conn) ## principals is a list of main people who worked on each movie\n"
   ]
  },
  {
   "cell_type": "code",
   "execution_count": 6,
   "metadata": {},
   "outputs": [],
   "source": [
    "actors=df['category']=='actor'  ## filters to only actors\n",
    "adf=df[actors]"
   ]
  },
  {
   "cell_type": "code",
   "execution_count": 8,
   "metadata": {},
   "outputs": [
    {
     "data": {
      "text/plain": [
       "tconst\n",
       "tt0003112    10\n",
       "tt0098931    10\n",
       "tt0048855    10\n",
       "tt0051286    10\n",
       "tt0071076    10\n",
       "             ..\n",
       "tt0057368     1\n",
       "tt0028166     1\n",
       "tt0069472     1\n",
       "tt0112232     1\n",
       "tt0083844     1\n",
       "Name: count, Length: 107749, dtype: int64"
      ]
     },
     "execution_count": 8,
     "metadata": {},
     "output_type": "execute_result"
    }
   ],
   "source": [
    "adf['tconst'].value_counts()\n"
   ]
  },
  {
   "cell_type": "code",
   "execution_count": 13,
   "metadata": {},
   "outputs": [
    {
     "data": {
      "text/plain": [
       "Text(0, 0.5, 'Frequency')"
      ]
     },
     "execution_count": 13,
     "metadata": {},
     "output_type": "execute_result"
    },
    {
     "data": {
      "image/png": "[encoded data removed]",
      "text/plain": [
       "<Figure size 640x480 with 1 Axes>"
      ]
     },
     "metadata": {},
     "output_type": "display_data"
    }
   ],
   "source": [
    "sns.histplot(adf['tconst'].value_counts())\n",
    "plt.title('Number of Credited Actors')\n",
    "plt.xlabel('Credited Actors')\n",
    "plt.ylabel('Frequency')\n",
    "## Histogram of how many credited actors are in each movie"
   ]
  },
  {
   "cell_type": "code",
   "execution_count": 37,
   "metadata": {},
   "outputs": [],
   "source": [
    "## For the next graph we need to grab ratings data\n",
    "rdf=pd.read_sql('select * FROM  principals p join ratings r on p.tconst=r.tconst', conn) \n",
    "\n",
    "\n"
   ]
  },
  {
   "cell_type": "code",
   "execution_count": 38,
   "metadata": {},
   "outputs": [],
   "source": [
    "filter=rdf['category']=='actor'  ## filters to only actors\n",
    "rdf=rdf[filter]\n",
    "rdf = rdf.loc[:, ~rdf.columns.duplicated()] ## remove one of the duplicated columns\n",
    "\n",
    "\n",
    "\n"
   ]
  },
  {
   "cell_type": "code",
   "execution_count": 53,
   "metadata": {},
   "outputs": [
    {
     "data": {
      "text/html": [
       "<div>\n",
       "<style scoped>\n",
       "    .dataframe tbody tr th:only-of-type {\n",
       "        vertical-align: middle;\n",
       "    }\n",
       "\n",
       "    .dataframe tbody tr th {\n",
       "        vertical-align: top;\n",
       "    }\n",
       "\n",
       "    .dataframe thead th {\n",
       "        text-align: right;\n",
       "    }\n",
       "</style>\n",
       "<table border=\"1\" class=\"dataframe\">\n",
       "  <thead>\n",
       "    <tr style=\"text-align: right;\">\n",
       "      <th></th>\n",
       "      <th>Movie</th>\n",
       "      <th>Total Actors</th>\n",
       "      <th>Rating</th>\n",
       "    </tr>\n",
       "  </thead>\n",
       "  <tbody>\n",
       "    <tr>\n",
       "      <th>0</th>\n",
       "      <td>tt0000005</td>\n",
       "      <td>2</td>\n",
       "      <td>6.1</td>\n",
       "    </tr>\n",
       "    <tr>\n",
       "      <th>1</th>\n",
       "      <td>tt0000007</td>\n",
       "      <td>2</td>\n",
       "      <td>5.4</td>\n",
       "    </tr>\n",
       "    <tr>\n",
       "      <th>2</th>\n",
       "      <td>tt0000008</td>\n",
       "      <td>1</td>\n",
       "      <td>5.4</td>\n",
       "    </tr>\n",
       "    <tr>\n",
       "      <th>3</th>\n",
       "      <td>tt0000009</td>\n",
       "      <td>2</td>\n",
       "      <td>6.0</td>\n",
       "    </tr>\n",
       "    <tr>\n",
       "      <th>4</th>\n",
       "      <td>tt0000011</td>\n",
       "      <td>1</td>\n",
       "      <td>5.2</td>\n",
       "    </tr>\n",
       "    <tr>\n",
       "      <th>5</th>\n",
       "      <td>tt0000014</td>\n",
       "      <td>2</td>\n",
       "      <td>7.1</td>\n",
       "    </tr>\n",
       "    <tr>\n",
       "      <th>6</th>\n",
       "      <td>tt0000017</td>\n",
       "      <td>1</td>\n",
       "      <td>4.6</td>\n",
       "    </tr>\n",
       "    <tr>\n",
       "      <th>7</th>\n",
       "      <td>tt0000018</td>\n",
       "      <td>1</td>\n",
       "      <td>5.3</td>\n",
       "    </tr>\n",
       "    <tr>\n",
       "      <th>8</th>\n",
       "      <td>tt0000026</td>\n",
       "      <td>4</td>\n",
       "      <td>5.6</td>\n",
       "    </tr>\n",
       "    <tr>\n",
       "      <th>9</th>\n",
       "      <td>tt0000036</td>\n",
       "      <td>1</td>\n",
       "      <td>4.4</td>\n",
       "    </tr>\n",
       "  </tbody>\n",
       "</table>\n",
       "</div>"
      ],
      "text/plain": [
       "       Movie  Total Actors   Rating\n",
       "0  tt0000005             2      6.1\n",
       "1  tt0000007             2      5.4\n",
       "2  tt0000008             1      5.4\n",
       "3  tt0000009             2      6.0\n",
       "4  tt0000011             1      5.2\n",
       "5  tt0000014             2      7.1\n",
       "6  tt0000017             1      4.6\n",
       "7  tt0000018             1      5.3\n",
       "8  tt0000026             4      5.6\n",
       "9  tt0000036             1      4.4"
      ]
     },
     "execution_count": 53,
     "metadata": {},
     "output_type": "execute_result"
    }
   ],
   "source": [
    "result = rdf.groupby('tconst').agg({'nconst': 'nunique', 'averageRating': 'mean'}).reset_index()  ## tconst is movie name, nconst is unique actors in it, and adding the rating\n",
    "result.columns = ['Movie', 'Total Actors', ' Rating']\n",
    "result.head(10)\n"
   ]
  },
  {
   "cell_type": "code",
   "execution_count": 52,
   "metadata": {},
   "outputs": [
    {
     "data": {
      "image/png": "[encoded data removed]",
      "text/plain": [
       "<Figure size 640x480 with 1 Axes>"
      ]
     },
     "metadata": {},
     "output_type": "display_data"
    }
   ],
   "source": [
    "plt.scatter(y=result['Total Actors'],x= result[' Rating'])\n",
    "plt.xlabel('Rating')\n",
    "plt.ylabel('Credited Actors')\n",
    "plt.title('Number of Actors vs Rating')\n",
    "plt.show()\n",
    "## We can see a very slight pattern"
   ]
  }
 ],
 "metadata": {
  "kernelspec": {
   "display_name": "Python 3",
   "language": "python",
   "name": "python3"
  },
  "language_info": {
   "codemirror_mode": {
    "name": "ipython",
    "version": 3
   },
   "file_extension": ".py",
   "mimetype": "text/x-python",
   "name": "python",
   "nbconvert_exporter": "python",
   "pygments_lexer": "ipython3",
   "version": "3.12.0"
  }
 },
 "nbformat": 4,
 "nbformat_minor": 2
}
