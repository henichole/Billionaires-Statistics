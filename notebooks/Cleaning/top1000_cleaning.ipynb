{
 "cells": [
  {
   "cell_type": "code",
   "execution_count": 3,
   "metadata": {},
   "outputs": [],
   "source": [
    "import pandas as pd\n",
    "\n",
    "\n",
    "topmoviesdf = pd.read_csv('topmovies.csv')\n",
    "\n",
    "## Importing the neaded libraries and our data"
   ]
  },
  {
   "cell_type": "code",
   "execution_count": 4,
   "metadata": {},
   "outputs": [
    {
     "name": "stdout",
     "output_type": "stream",
     "text": [
      "Unnamed: 0        0\n",
      "Movie Name        0\n",
      "Certificate      15\n",
      "Duration          0\n",
      "Genre             0\n",
      "IMDb Rating       0\n",
      "Metascore       155\n",
      "Director          0\n",
      "Stars             0\n",
      "Votes             0\n",
      "Grossed in $      0\n",
      "Plot              0\n",
      "dtype: int64\n"
     ]
    }
   ],
   "source": [
    "print(topmoviesdf.isnull().sum())\n",
    "\n",
    "## Metascore is the same as IMDB rating so we can probably drop it, the certificate nulls need to be looked at"
   ]
  },
  {
   "cell_type": "code",
   "execution_count": 5,
   "metadata": {},
   "outputs": [
    {
     "name": "stdout",
     "output_type": "stream",
     "text": [
      "0\n"
     ]
    }
   ],
   "source": [
    "print(topmoviesdf.duplicated().sum())\n",
    "\n",
    "## No duplicates "
   ]
  },
  {
   "cell_type": "code",
   "execution_count": 6,
   "metadata": {},
   "outputs": [
    {
     "name": "stdout",
     "output_type": "stream",
     "text": [
      "     Unnamed: 0                 Movie Name Certificate Duration  \\\n",
      "15           15                777 Charlie         NaN  164 min   \n",
      "36           36                 Sita Ramam         NaN  163 min   \n",
      "91           91                 Drishyam 2         NaN  152 min   \n",
      "115         115                     Vikram         NaN  175 min   \n",
      "135         135  Ayla: The Daughter of War         NaN  125 min   \n",
      "334         334                     Masaan         NaN  109 min   \n",
      "335         335   Her Sey Çok Güzel Olacak         NaN  107 min   \n",
      "432         432         The Wild Pear Tree         NaN  188 min   \n",
      "447         447           Quo Vadis, Aida?         NaN  101 min   \n",
      "456         456                   G.O.R.A.         NaN  127 min   \n",
      "467         467                  Vizontele         NaN  110 min   \n",
      "469         469      Nefes: Vatan Sagolsun         NaN  128 min   \n",
      "890         890          Perfect Strangers         NaN   96 min   \n",
      "926         926                  Fireworks         NaN  103 min   \n",
      "999         999                   Cell 211         NaN  113 min   \n",
      "\n",
      "                         Genre  IMDb Rating  Metascore           Director  \\\n",
      "15    Adventure, Comedy, Drama          8.8        NaN         Kiranraj K   \n",
      "36      Action, Drama, Mystery          8.6        NaN   Hanu Raghavapudi   \n",
      "91      Crime, Drama, Thriller          8.4        NaN      Jeethu Joseph   \n",
      "115    Action, Crime, Thriller          8.3        NaN   Lokesh Kanagaraj   \n",
      "135  Biography, Drama, History          8.3        NaN          Can Ulkay   \n",
      "334                      Drama          8.1        NaN     Neeraj Ghaywan   \n",
      "335    Comedy, Drama, Thriller          8.1        NaN         Ömer Vargi   \n",
      "432                      Drama          8.0       86.0  Nuri Bilge Ceylan   \n",
      "447        Drama, History, War          8.0       97.0     Jasmila Zbanic   \n",
      "456  Adventure, Comedy, Sci-Fi          8.0        NaN   Ömer Faruk Sorak   \n",
      "467              Comedy, Drama          8.0        NaN     Yilmaz Erdogan   \n",
      "469    Action, Drama, Thriller          8.0        NaN     Levent Semerci   \n",
      "890              Comedy, Drama          7.7        NaN     Paolo Genovese   \n",
      "926      Crime, Drama, Romance          7.7       83.0     Takeshi Kitano   \n",
      "999       Action, Crime, Drama          7.6        NaN      Daniel Monzón   \n",
      "\n",
      "                                                 Stars  Votes  Grossed in $  \\\n",
      "15   ['Rakshit Shetty', 'Charlie', 'Sangeetha Sring...  37051         37051   \n",
      "36   ['Dulquer Salmaan', 'Mrunal Thakur', 'Rashmika...  63419         63419   \n",
      "91      ['Mohanlal', 'Meena', 'Ansiba', 'Esther Anil']  39787         39787   \n",
      "115  ['Kamal Haasan', 'Vijay Sethupathi', 'Fahadh F...  67375         67375   \n",
      "135  ['Çetin Tekindor', 'Ismail Hacioglu', 'Kyung-j...  42519         42519   \n",
      "334  ['Richa Chadha', 'Sanjay Mishra', 'Vicky Kaush...  29945         29945   \n",
      "335  ['Cem Yilmaz', 'Mazhar Alanson', 'Ceyda Düvenc...  26845         26845   \n",
      "432  ['Dogu Demirkol', 'Murat Cemcir', 'Bennu Yildi...  26476         26476   \n",
      "447  ['Jasna Djuricic', 'Izudin Bajrovic', 'Boris L...  36872         36872   \n",
      "456  ['Cem Yilmaz', 'Özge Özberk', 'Ozan Güven', 'S...  65479         65479   \n",
      "467  ['Ömer Faruk Sorak', 'Yilmaz Erdogan', 'Demet ...  38077         38077   \n",
      "469  ['Mete Horozoglu', 'Ilker Kizmaz', 'Birce Akal...  34684         34684   \n",
      "890  ['Giuseppe Battiston', 'Anna Foglietta', 'Marc...  69407         69407   \n",
      "926  ['Takeshi Kitano', 'Kayoko Kishimoto', 'Ren Ôs...  32309         32309   \n",
      "999  ['Luis Tosar', 'Alberto Ammann', 'Antonio Resi...  69777         69777   \n",
      "\n",
      "                                                  Plot  \n",
      "15   Dharma is stuck in a rut with his negative and...  \n",
      "36   An orphan soldier, Lieutenant Ram's life chang...  \n",
      "91   A gripping tale of an investigation and a fami...  \n",
      "115  A special investigator assigned a case of seri...  \n",
      "135  Sergeant Süleyman finds a little girl on a bat...  \n",
      "334  Along India's Ganges River, four people face p...  \n",
      "335  When Altan swipes prescription drugs from his ...  \n",
      "432  An unpublished writer returns to his hometown ...  \n",
      "447  Aida is a translator for the UN in the small t...  \n",
      "456  A slick young Turk kidnapped by extraterrestri...  \n",
      "467  Lives of residents in a small, Anatolian villa...  \n",
      "469  Story of 40-man Turkish task force who must de...  \n",
      "890  Seven long-time friends meet for dinner. They ...  \n",
      "926  Nishi leaves the police in the face of harrowi...  \n",
      "999  The story of two men on different sides of a p...  \n"
     ]
    }
   ],
   "source": [
    "print(topmoviesdf[topmoviesdf['Certificate'].isnull()])\n",
    "\n",
    "## We can see that the ones missing a certificate are all foreign films, so we can replace with something saying that\n",
    "\n"
   ]
  },
  {
   "cell_type": "code",
   "execution_count": 7,
   "metadata": {},
   "outputs": [],
   "source": [
    "topmoviesdf['Certificate'].fillna('Foreign', inplace=True)\n",
    "topmoviesdf= topmoviesdf.drop(['Metascore'], axis=1)\n",
    "## dropping the redundant column with alot of nulls , and replacing the null certificates of foreign films\n"
   ]
  },
  {
   "cell_type": "code",
   "execution_count": 8,
   "metadata": {},
   "outputs": [
    {
     "name": "stdout",
     "output_type": "stream",
     "text": [
      "Unnamed: 0      0\n",
      "Movie Name      0\n",
      "Certificate     0\n",
      "Duration        0\n",
      "Genre           0\n",
      "IMDb Rating     0\n",
      "Director        0\n",
      "Stars           0\n",
      "Votes           0\n",
      "Grossed in $    0\n",
      "Plot            0\n",
      "dtype: int64\n"
     ]
    }
   ],
   "source": [
    "print(topmoviesdf.isnull().sum())"
   ]
  },
  {
   "cell_type": "code",
   "execution_count": 9,
   "metadata": {},
   "outputs": [
    {
     "name": "stdout",
     "output_type": "stream",
     "text": [
      "Unnamed: 0        int64\n",
      "Movie Name       object\n",
      "Certificate      object\n",
      "Duration         object\n",
      "Genre            object\n",
      "IMDb Rating     float64\n",
      "Director         object\n",
      "Stars            object\n",
      "Votes             int64\n",
      "Grossed in $      int64\n",
      "Plot             object\n",
      "dtype: object\n"
     ]
    }
   ],
   "source": [
    "print(topmoviesdf.dtypes)  ## Duration is a string right now and we need to change it to int"
   ]
  },
  {
   "cell_type": "code",
   "execution_count": 10,
   "metadata": {},
   "outputs": [],
   "source": [
    "## Durations are listed as \"190 min\" so we need to remove the characters and change to int\n",
    "## since it is always a space and then \"min\" we can just remove the last 4 characters\n",
    "\n",
    "def clean_duration(row):\n",
    "    return int(row[:-4])\n",
    "\n",
    "\n",
    "topmoviesdf['Duration'] = topmoviesdf['Duration'].apply(clean_duration)\n",
    "    "
   ]
  },
  {
   "cell_type": "code",
   "execution_count": 18,
   "metadata": {},
   "outputs": [],
   "source": [
    "topmoviesdf.columns = ['index','name', 'certificate', 'duration','genre','rating','director','stars','votes','grossed','plot']\n",
    "## changing column names to standardize capitalization and make it a bit clearer"
   ]
  },
  {
   "cell_type": "code",
   "execution_count": 20,
   "metadata": {},
   "outputs": [],
   "source": [
    "topmoviesdf.to_csv('topmoviesclean.csv', index = False)  ## saving the processed version"
   ]
  },
  {
   "cell_type": "markdown",
   "metadata": {},
   "source": [
    "Initial EDA"
   ]
  },
  {
   "cell_type": "code",
   "execution_count": 12,
   "metadata": {},
   "outputs": [
    {
     "data": {
      "text/plain": [
       "<Axes: xlabel='IMDb Rating', ylabel='Count'>"
      ]
     },
     "execution_count": 12,
     "metadata": {},
     "output_type": "execute_result"
    },
    {
     "data": {
      "image/png": "[encoded data removed]",
      "text/plain": [
       "<Figure size 640x480 with 1 Axes>"
      ]
     },
     "metadata": {},
     "output_type": "display_data"
    }
   ],
   "source": [
    "import seaborn as sns\n",
    "import matplotlib as plt\n",
    "\n",
    "\n",
    "sns.histplot(topmoviesdf['IMDb Rating'])   ## checking the rating distribution"
   ]
  },
  {
   "cell_type": "code",
   "execution_count": 13,
   "metadata": {},
   "outputs": [
    {
     "data": {
      "text/plain": [
       "<Axes: xlabel='Grossed in $', ylabel='Count'>"
      ]
     },
     "execution_count": 13,
     "metadata": {},
     "output_type": "execute_result"
    },
    {
     "data": {
      "image/png": "[encoded data removed]",
      "text/plain": [
       "<Figure size 640x480 with 1 Axes>"
      ]
     },
     "metadata": {},
     "output_type": "display_data"
    }
   ],
   "source": [
    "sns.histplot(topmoviesdf['Grossed in $'])  ## checking gross $ distribution"
   ]
  },
  {
   "cell_type": "code",
   "execution_count": 14,
   "metadata": {},
   "outputs": [
    {
     "data": {
      "text/html": [
       "<div>\n",
       "<style scoped>\n",
       "    .dataframe tbody tr th:only-of-type {\n",
       "        vertical-align: middle;\n",
       "    }\n",
       "\n",
       "    .dataframe tbody tr th {\n",
       "        vertical-align: top;\n",
       "    }\n",
       "\n",
       "    .dataframe thead th {\n",
       "        text-align: right;\n",
       "    }\n",
       "</style>\n",
       "<table border=\"1\" class=\"dataframe\">\n",
       "  <thead>\n",
       "    <tr style=\"text-align: right;\">\n",
       "      <th></th>\n",
       "      <th>Duration</th>\n",
       "      <th>IMDb Rating</th>\n",
       "      <th>Grossed in $</th>\n",
       "    </tr>\n",
       "  </thead>\n",
       "  <tbody>\n",
       "    <tr>\n",
       "      <th>Duration</th>\n",
       "      <td>1.000000</td>\n",
       "      <td>0.274100</td>\n",
       "      <td>0.162698</td>\n",
       "    </tr>\n",
       "    <tr>\n",
       "      <th>IMDb Rating</th>\n",
       "      <td>0.274100</td>\n",
       "      <td>1.000000</td>\n",
       "      <td>0.491154</td>\n",
       "    </tr>\n",
       "    <tr>\n",
       "      <th>Grossed in $</th>\n",
       "      <td>0.162698</td>\n",
       "      <td>0.491154</td>\n",
       "      <td>1.000000</td>\n",
       "    </tr>\n",
       "  </tbody>\n",
       "</table>\n",
       "</div>"
      ],
      "text/plain": [
       "              Duration  IMDb Rating  Grossed in $\n",
       "Duration      1.000000     0.274100      0.162698\n",
       "IMDb Rating   0.274100     1.000000      0.491154\n",
       "Grossed in $  0.162698     0.491154      1.000000"
      ]
     },
     "execution_count": 14,
     "metadata": {},
     "output_type": "execute_result"
    }
   ],
   "source": [
    "subset=topmoviesdf[['Duration','IMDb Rating','Grossed in $']]\n",
    "subset.corr()\n",
    "## There is a  small correlation only\n"
   ]
  }
 ],
 "metadata": {
  "kernelspec": {
   "display_name": "Python 3",
   "language": "python",
   "name": "python3"
  },
  "language_info": {
   "codemirror_mode": {
    "name": "ipython",
    "version": 3
   },
   "file_extension": ".py",
   "mimetype": "text/x-python",
   "name": "python",
   "nbconvert_exporter": "python",
   "pygments_lexer": "ipython3",
   "version": "3.12.0"
  }
 },
 "nbformat": 4,
 "nbformat_minor": 2
}
