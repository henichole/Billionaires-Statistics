{
 "cells": [
  {
   "cell_type": "code",
   "execution_count": 17,
   "metadata": {},
   "outputs": [],
   "source": [
    "import pandas as pd\n",
    "import numpy as np\n",
    "import sqlite3\n",
    "import statsmodels.api as sm\n",
    "import matplotlib.pyplot as plt\n",
    "import seaborn as sns\n",
    "\n",
    "df=pd.read_csv('name_principals_clean.csv')\n",
    "df = df.drop_duplicates() "
   ]
  },
  {
   "cell_type": "code",
   "execution_count": 12,
   "metadata": {},
   "outputs": [
    {
     "data": {
      "text/plain": [
       "primaryName\n",
       "Jens-Peter Erichsen    10.0\n",
       "Michael Nowka           9.8\n",
       "Manfred Meurer          9.8\n",
       "Ercan Durmaz            9.8\n",
       "Matthew Dawson          9.8\n",
       "Sebastian Rabl          9.7\n",
       "James Lawless           9.6\n",
       "Klaus-Peter Grap        9.5\n",
       "Ronald Dehne            9.5\n",
       "René Schell             9.5\n",
       "Christoph Quest         9.5\n",
       "Hermann Wenning         9.5\n",
       "Rostas Gabor            9.5\n",
       "José van der Schoot     9.5\n",
       "Fred Bräutigam          9.5\n",
       "Leonardo Putzgruber     9.4\n",
       "Carlos Werner           9.4\n",
       "Hans Peter Falkner      9.4\n",
       "Walter F. Scott         9.4\n",
       "Hans Musäus             9.4\n",
       "Fermín Iniesta          9.4\n",
       "Gyula Fehér             9.4\n",
       "Markus Binder           9.4\n",
       "Hans-Albert Martens     9.4\n",
       "Aníbal Bordallo         9.4\n",
       "Antonio Ventura         9.4\n",
       "Bob Hevelone            9.3\n",
       "Conrad Tovar            9.3\n",
       "Volker Spahr            9.3\n",
       "Bill Grant              9.3\n",
       "Ted Burnett             9.3\n",
       "Akira Kume              9.3\n",
       "Billy Daniel            9.3\n",
       "Lothar Blumhagen        9.2\n",
       "Heiner Reddemann        9.2\n",
       "Gert Niemitz            9.2\n",
       "Greg Parker             9.2\n",
       "Pat Dias                9.2\n",
       "Peter Uwe Witt          9.2\n",
       "Heinz Frölich           9.2\n",
       "Name: averageRating, dtype: float64"
      ]
     },
     "execution_count": 12,
     "metadata": {},
     "output_type": "execute_result"
    }
   ],
   "source": [
    "subset = df[df['category'] == 'actor']\n",
    "\n",
    "\n",
    "actor_avg = subset.groupby('primaryName')['averageRating'].mean()\n",
    "\n",
    "ranks=actor_avg.sort_values(ascending=False)\n",
    "\n",
    "ranks.head(40)\n",
    "\n",
    "## checks top actors by average movie rating\n",
    "\n"
   ]
  },
  {
   "cell_type": "code",
   "execution_count": 13,
   "metadata": {},
   "outputs": [
    {
     "data": {
      "text/plain": [
       "primaryName\n",
       "Marcus Kanter               10.00\n",
       "Ulrich Lauterbach            9.90\n",
       "Alexandra Brodsky            9.80\n",
       "Ayhan Salar                  9.80\n",
       "Gustav Burmester             9.80\n",
       "Dominik Zen                  9.70\n",
       "Franz Morak                  9.70\n",
       "Sandra Osawa                 9.60\n",
       "John D. Goodell              9.60\n",
       "Matl Findel                  9.50\n",
       "Hans Bachmüller              9.40\n",
       "Joaquín Hidalgo              9.40\n",
       "Erich Neureuther             9.40\n",
       "Petar Grimani                9.30\n",
       "Noel Madison                 9.30\n",
       "Filipe Paulo                 9.30\n",
       "Gábor Dettre                 9.30\n",
       "Edward Rothe                 9.30\n",
       "Magda Dulcic                 9.20\n",
       "Pat Hartigan                 9.20\n",
       "Ronald Eyre                  9.20\n",
       "Gavin Taylor                 9.20\n",
       "Thad Halcli                  9.20\n",
       "Jane Jensen                  9.10\n",
       "Ramiro Puerta                9.10\n",
       "Hanns Farenburg              9.10\n",
       "Nora Jacobson                9.10\n",
       "Jim Holliday                 9.10\n",
       "Christian Baudissin          9.10\n",
       "Lutz Büscher                 9.05\n",
       "Milos Djukelic               9.00\n",
       "Vladimir Petek               9.00\n",
       "Anatoliy Dormenko            9.00\n",
       "Ludmil Staikov               9.00\n",
       "Deepa Dhanraj                9.00\n",
       "Amanda Micheli               9.00\n",
       "Juan Bautista Berasategi     9.00\n",
       "Aleksandra Remizova          9.00\n",
       "Michael Lorentz              9.00\n",
       "Ron Miller                   9.00\n",
       "Name: averageRating, dtype: float64"
      ]
     },
     "execution_count": 13,
     "metadata": {},
     "output_type": "execute_result"
    }
   ],
   "source": [
    "subset = df[df['category'] == 'director']\n",
    "\n",
    "\n",
    "dir_avg =subset.groupby('primaryName')['averageRating'].mean()\n",
    "\n",
    "ranks=dir_avg.sort_values(ascending=False)\n",
    "\n",
    "ranks.head(40)\n",
    "\n",
    "## top directors by average movie rating\n",
    "\n"
   ]
  },
  {
   "cell_type": "code",
   "execution_count": 18,
   "metadata": {},
   "outputs": [
    {
     "data": {
      "text/plain": [
       "primaryName\n",
       "Mel Blanc              889\n",
       "Pinto Colvig           251\n",
       "Moe Howard             208\n",
       "Larry Fine             206\n",
       "Billy Bletcher         188\n",
       "                      ... \n",
       "Ali Achmed Taram         1\n",
       "Heinz Lieven             1\n",
       "Ennio Panosetti          1\n",
       "Carlos Alberto Baía      1\n",
       "Master Ravi              1\n",
       "Name: count, Length: 56743, dtype: int64"
      ]
     },
     "execution_count": 18,
     "metadata": {},
     "output_type": "execute_result"
    }
   ],
   "source": [
    "filtered = df[df['category'] == 'actor']\n",
    "filtered['primaryName'].value_counts()\n",
    "## checks who acted in the most movies\n"
   ]
  },
  {
   "cell_type": "code",
   "execution_count": 16,
   "metadata": {},
   "outputs": [
    {
     "data": {
      "text/plain": [
       "primaryName\n",
       "D.W. Griffith     424\n",
       "Dave Fleischer    423\n",
       "Friz Freleng      301\n",
       "Chuck Jones       282\n",
       "Sam Newfield      190\n",
       "                 ... \n",
       "Jorge Zanada        1\n",
       "Åke Grönberg        1\n",
       "Harry Gerstad       1\n",
       "József Kis          1\n",
       "Tim Boxell          1\n",
       "Name: count, Length: 19135, dtype: int64"
      ]
     },
     "execution_count": 16,
     "metadata": {},
     "output_type": "execute_result"
    }
   ],
   "source": [
    "filtered = df[df['category'] == 'director']\n",
    "filtered['primaryName'].value_counts()\n",
    "##  who directed in the most movies"
   ]
  }
 ],
 "metadata": {
  "kernelspec": {
   "display_name": "Python 3",
   "language": "python",
   "name": "python3"
  },
  "language_info": {
   "codemirror_mode": {
    "name": "ipython",
    "version": 3
   },
   "file_extension": ".py",
   "mimetype": "text/x-python",
   "name": "python",
   "nbconvert_exporter": "python",
   "pygments_lexer": "ipython3",
   "version": "3.12.0"
  }
 },
 "nbformat": 4,
 "nbformat_minor": 2
}
