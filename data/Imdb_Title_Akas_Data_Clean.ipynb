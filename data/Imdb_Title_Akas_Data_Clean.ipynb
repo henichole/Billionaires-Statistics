{
 "cells": [
  {
   "cell_type": "markdown",
   "id": "f5d0d268-033f-468d-982c-4d60d1585d7b",
   "metadata": {},
   "source": [
    "Here, we are only including the movies from English speaking countries "
   ]
  },
  {
   "cell_type": "code",
   "execution_count": 13,
   "id": "3ffca15e-33e3-46b8-aef4-2292f9676ae8",
   "metadata": {
    "tags": []
   },
   "outputs": [
    {
     "name": "stdout",
     "output_type": "stream",
     "text": [
      "           titleId  ordering                                        title  \\\n",
      "5        tt0000001         6                                   Carmencita   \n",
      "14       tt0000002         7                       The Clown and His Dogs   \n",
      "22       tt0000003         7                                 Poor Pierrot   \n",
      "34       tt0000005        11                       The Blacksmith's Forge   \n",
      "35       tt0000005         1                          Blacksmithing Scene   \n",
      "...            ...       ...                                          ...   \n",
      "1048546  tt0177855         5                                     Touch Me   \n",
      "1048548  tt0177856         2                                       Climax   \n",
      "1048552  tt0177856         6  Ich, Das Abenteuer, Heute Eine Frau Zu Sein   \n",
      "1048554  tt0177856         8                                       Climax   \n",
      "1048557  tt0177858        11                                      In July   \n",
      "\n",
      "        region language        types                  attributes  \\\n",
      "5           US       \\N           \\N                          \\N   \n",
      "14          US       \\N           \\N       literal English title   \n",
      "22          GB       \\N  imdbDisplay                          \\N   \n",
      "34          GB       \\N           \\N  informal alternative title   \n",
      "35          US       \\N  alternative                          \\N   \n",
      "...        ...      ...          ...                         ...   \n",
      "1048546     GB       \\N           \\N                          \\N   \n",
      "1048548     AU       \\N  imdbDisplay                          \\N   \n",
      "1048552     CA       en  imdbDisplay                          \\N   \n",
      "1048554     GB       \\N           \\N                          \\N   \n",
      "1048557     US       \\N  imdbDisplay                          \\N   \n",
      "\n",
      "        isOriginalTitle  \n",
      "5                     0  \n",
      "14                    0  \n",
      "22                    0  \n",
      "34                    0  \n",
      "35                    0  \n",
      "...                 ...  \n",
      "1048546               0  \n",
      "1048548               0  \n",
      "1048552               0  \n",
      "1048554               0  \n",
      "1048557               0  \n",
      "\n",
      "[201542 rows x 8 columns]\n"
     ]
    }
   ],
   "source": [
    "import pandas as pd\n",
    "\n",
    "# Define the list of regions to retain\n",
    "allowed_regions = ['AS', 'AU', 'BW', 'CA', 'GB', 'IE', 'MH', 'MP', 'NZ', 'SG', 'UM', 'US', 'VI', 'ZA', 'ZW']\n",
    "\n",
    "# Define data types for columns to handle mixed types warning\n",
    "data_types = {\n",
    "    'titleId': str,\n",
    "    'ordering': int,\n",
    "    'title': str,\n",
    "    'region': str,\n",
    "    'language': str,\n",
    "    'types': str,\n",
    "    'attributes': str,\n",
    "    'isOriginalTitle': str\n",
    "}\n",
    "\n",
    "# Read the CSV file with specified data types to handle mixed types warning\n",
    "data = pd.read_csv('ImdbTitleAkas.csv', dtype=data_types, low_memory=False)\n",
    "\n",
    "# Filter rows based on the 'region' column\n",
    "filtered_data = data[data['region'].isin(allowed_regions)]\n",
    "\n",
    "# Display the filtered rows\n",
    "print(filtered_data)\n",
    "\n",
    "# Count the number of rows in the filtered data\n",
    "row_count = filtered_data.shape[0]\n",
    "\n",
    "# Save the filtered data to a new CSV file\n",
    "filtered_data.to_csv('ImdbTitleAkasEnglishNamesOnly.csv', index=False)\n"
   ]
  },
  {
   "cell_type": "code",
   "execution_count": 14,
   "id": "aacfa439-1131-4a5a-9bc2-20e21fe22e09",
   "metadata": {
    "tags": []
   },
   "outputs": [
    {
     "name": "stdout",
     "output_type": "stream",
     "text": [
      "Empty DataFrame\n",
      "Columns: [titleId, ordering, title, region, language, types, attributes, isOriginalTitle]\n",
      "Index: []\n"
     ]
    }
   ],
   "source": [
    "# Check for duplicates across all columns\n",
    "all_columns_duplicates = data[data.duplicated(keep=False)]\n",
    "\n",
    "# Display the duplicated rows across all columns\n",
    "print(all_columns_duplicates)"
   ]
  },
  {
   "cell_type": "markdown",
   "id": "a6845913-a27e-42f1-8890-9eb83b1f9f82",
   "metadata": {},
   "source": [
    "I've finished cleaning the movies with non-English titles "
   ]
  },
  {
   "cell_type": "code",
   "execution_count": null,
   "id": "82a96d99-5638-47ae-a7ea-c2c3d183659a",
   "metadata": {},
   "outputs": [],
   "source": []
  }
 ],
 "metadata": {
  "kernelspec": {
   "display_name": "Python 3 (ipykernel)",
   "language": "python",
   "name": "python3"
  },
  "language_info": {
   "codemirror_mode": {
    "name": "ipython",
    "version": 3
   },
   "file_extension": ".py",
   "mimetype": "text/x-python",
   "name": "python",
   "nbconvert_exporter": "python",
   "pygments_lexer": "ipython3",
   "version": "3.11.5"
  }
 },
 "nbformat": 4,
 "nbformat_minor": 5
}
