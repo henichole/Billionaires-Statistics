{
 "cells": [
  {
   "cell_type": "code",
   "execution_count": 2,
   "id": "8ea2449d-9f0c-48c1-beac-68693869306d",
   "metadata": {
    "tags": []
   },
   "outputs": [
    {
     "name": "stdout",
     "output_type": "stream",
     "text": [
      "Empty DataFrame\n",
      "Columns: [tconst, averageRating, numVotes]\n",
      "Index: []\n"
     ]
    }
   ],
   "source": [
    "import pandas as pd\n",
    "\n",
    "# Read the 'ImdbTitleRatings' CSV file into a DataFrame\n",
    "imdb_title_rating = pd.read_csv('ImdbTitleRatings.csv')\n",
    "\n",
    "# Check for null values in the 'averageRating' column\n",
    "null_average_ratings = imdb_title_rating[imdb_title_rating['averageRating'].isnull()]\n",
    "\n",
    "# Display rows with null 'averageRating'\n",
    "print(null_average_ratings)\n"
   ]
  },
  {
   "cell_type": "code",
   "execution_count": 4,
   "id": "618ad769-2af7-42e3-af69-7d5a8776c996",
   "metadata": {
    "tags": []
   },
   "outputs": [
    {
     "name": "stdout",
     "output_type": "stream",
     "text": [
      "Empty DataFrame\n",
      "Columns: [tconst, averageRating, numVotes]\n",
      "Index: []\n"
     ]
    }
   ],
   "source": [
    "# Check for null values in the 'numVotes' column\n",
    "null_num_votes = imdb_title_rating[imdb_title_rating['numVotes'].isnull()]\n",
    "\n",
    "# Display rows with null 'numVotes'\n",
    "print(null_num_votes)\n"
   ]
  },
  {
   "cell_type": "code",
   "execution_count": 5,
   "id": "541ef1ce-d1c5-4ff4-9e74-062194965166",
   "metadata": {
    "tags": []
   },
   "outputs": [
    {
     "name": "stdout",
     "output_type": "stream",
     "text": [
      "Empty DataFrame\n",
      "Columns: [tconst, averageRating, numVotes]\n",
      "Index: []\n"
     ]
    }
   ],
   "source": [
    "# Check for duplicates in the 'tconst' column\n",
    "duplicates = imdb_title_rating[imdb_title_rating.duplicated(subset='tconst', keep=False)]\n",
    "\n",
    "# Display the duplicated rows based on 'tconst'\n",
    "print(duplicates)"
   ]
  },
  {
   "cell_type": "code",
   "execution_count": null,
   "id": "cf4781ef-35ec-4a67-ae76-db76540764b8",
   "metadata": {},
   "outputs": [],
   "source": [
    "change\n"
   ]
  }
 ],
 "metadata": {
  "kernelspec": {
   "display_name": "Python 3 (ipykernel)",
   "language": "python",
   "name": "python3"
  },
  "language_info": {
   "codemirror_mode": {
    "name": "ipython",
    "version": 3
   },
   "file_extension": ".py",
   "mimetype": "text/x-python",
   "name": "python",
   "nbconvert_exporter": "python",
   "pygments_lexer": "ipython3",
   "version": "3.11.5"
  }
 },
 "nbformat": 4,
 "nbformat_minor": 5
}
